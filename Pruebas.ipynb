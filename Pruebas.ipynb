{
 "cells": [
  {
   "cell_type": "code",
   "execution_count": 1,
   "metadata": {},
   "outputs": [],
   "source": [
    "import os\n",
    "import pandas as pd\n",
    "import numpy as np"
   ]
  },
  {
   "cell_type": "code",
   "execution_count": 2,
   "metadata": {},
   "outputs": [],
   "source": [
    "os.chdir('/Users/JuanJose/Library/CloudStorage/OneDrive-UniversidaddelosAndes/Uniandes/8 Semestre/Machine Learning/Proyecto Final/Trabajo Final/Data')\n",
    "Juandi=pd.read_pickle('user_model_juandi.pkl')"
   ]
  },
  {
   "cell_type": "code",
   "execution_count": 3,
   "metadata": {},
   "outputs": [
    {
     "data": {
      "text/plain": [
       "486300"
      ]
     },
     "execution_count": 3,
     "metadata": {},
     "output_type": "execute_result"
    }
   ],
   "source": [
    "len(Juandi)"
   ]
  },
  {
   "cell_type": "code",
   "execution_count": 4,
   "metadata": {},
   "outputs": [
    {
     "data": {
      "text/plain": [
       "Index(['ID', 'Permalink', 'Author ID', 'Author Name', 'Author Location',\n",
       "       'Author Description', 'Author Followers', 'Author Following',\n",
       "       'Author Tweets', 'Author Profile Image', 'Author Verified', 'Date',\n",
       "       'Text', 'Replies', 'Retweets', 'Favorites', 'Quotes', 'is Retweet?',\n",
       "       'Reply To User Name', 'Mentions', 'Referenced Tweet', 'Reference Type',\n",
       "       'Referenced Tweet Author ID', 'Media URLs', 'Media Keys', 'ADJ%',\n",
       "       'ADP%', 'ADV%', 'AUX%', 'CCONJ%', 'DET%', 'INTJ%', 'PART%', 'PRON%',\n",
       "       'PROPN%', 'PUNCT%', 'SCONJ%', 'SYM%', 'VERB%', 'X%', 'SPACE%'],\n",
       "      dtype='object')"
      ]
     },
     "execution_count": 4,
     "metadata": {},
     "output_type": "execute_result"
    }
   ],
   "source": [
    "Juandi.columns"
   ]
  },
  {
   "cell_type": "code",
   "execution_count": 5,
   "metadata": {},
   "outputs": [],
   "source": [
    "Juandi=Juandi[['Author ID','ADJ%','ADP%', 'ADV%', 'AUX%', 'CCONJ%', 'DET%', 'INTJ%', 'PART%', 'PRON%','PROPN%', 'PUNCT%', 'SCONJ%', 'SYM%', 'VERB%', 'X%', 'SPACE%']]"
   ]
  },
  {
   "cell_type": "code",
   "execution_count": 7,
   "metadata": {},
   "outputs": [
    {
     "data": {
      "text/html": [
       "<div>\n",
       "<style scoped>\n",
       "    .dataframe tbody tr th:only-of-type {\n",
       "        vertical-align: middle;\n",
       "    }\n",
       "\n",
       "    .dataframe tbody tr th {\n",
       "        vertical-align: top;\n",
       "    }\n",
       "\n",
       "    .dataframe thead th {\n",
       "        text-align: right;\n",
       "    }\n",
       "</style>\n",
       "<table border=\"1\" class=\"dataframe\">\n",
       "  <thead>\n",
       "    <tr style=\"text-align: right;\">\n",
       "      <th></th>\n",
       "      <th>Author ID</th>\n",
       "      <th>ADJ%</th>\n",
       "      <th>ADP%</th>\n",
       "      <th>ADV%</th>\n",
       "      <th>AUX%</th>\n",
       "      <th>CCONJ%</th>\n",
       "      <th>DET%</th>\n",
       "      <th>INTJ%</th>\n",
       "      <th>PART%</th>\n",
       "      <th>PRON%</th>\n",
       "      <th>PROPN%</th>\n",
       "      <th>PUNCT%</th>\n",
       "      <th>SCONJ%</th>\n",
       "      <th>SYM%</th>\n",
       "      <th>VERB%</th>\n",
       "      <th>X%</th>\n",
       "      <th>SPACE%</th>\n",
       "    </tr>\n",
       "  </thead>\n",
       "  <tbody>\n",
       "    <tr>\n",
       "      <th>0</th>\n",
       "      <td>252912120</td>\n",
       "      <td>0.000000</td>\n",
       "      <td>0.083333</td>\n",
       "      <td>0.083333</td>\n",
       "      <td>0.000000</td>\n",
       "      <td>0.083333</td>\n",
       "      <td>0.083333</td>\n",
       "      <td>0.0</td>\n",
       "      <td>0.0</td>\n",
       "      <td>0.166667</td>\n",
       "      <td>0.083333</td>\n",
       "      <td>0.083333</td>\n",
       "      <td>0.000000</td>\n",
       "      <td>0.0</td>\n",
       "      <td>0.166667</td>\n",
       "      <td>0.0</td>\n",
       "      <td>0.083333</td>\n",
       "    </tr>\n",
       "    <tr>\n",
       "      <th>1</th>\n",
       "      <td>252912120</td>\n",
       "      <td>0.142857</td>\n",
       "      <td>0.214286</td>\n",
       "      <td>0.035714</td>\n",
       "      <td>0.000000</td>\n",
       "      <td>0.000000</td>\n",
       "      <td>0.071429</td>\n",
       "      <td>0.0</td>\n",
       "      <td>0.0</td>\n",
       "      <td>0.071429</td>\n",
       "      <td>0.000000</td>\n",
       "      <td>0.071429</td>\n",
       "      <td>0.000000</td>\n",
       "      <td>0.0</td>\n",
       "      <td>0.107143</td>\n",
       "      <td>0.0</td>\n",
       "      <td>0.071429</td>\n",
       "    </tr>\n",
       "    <tr>\n",
       "      <th>2</th>\n",
       "      <td>252912120</td>\n",
       "      <td>0.020833</td>\n",
       "      <td>0.166667</td>\n",
       "      <td>0.125000</td>\n",
       "      <td>0.020833</td>\n",
       "      <td>0.062500</td>\n",
       "      <td>0.083333</td>\n",
       "      <td>0.0</td>\n",
       "      <td>0.0</td>\n",
       "      <td>0.041667</td>\n",
       "      <td>0.000000</td>\n",
       "      <td>0.062500</td>\n",
       "      <td>0.041667</td>\n",
       "      <td>0.0</td>\n",
       "      <td>0.083333</td>\n",
       "      <td>0.0</td>\n",
       "      <td>0.000000</td>\n",
       "    </tr>\n",
       "    <tr>\n",
       "      <th>3</th>\n",
       "      <td>252912120</td>\n",
       "      <td>0.125000</td>\n",
       "      <td>0.000000</td>\n",
       "      <td>0.000000</td>\n",
       "      <td>0.000000</td>\n",
       "      <td>0.000000</td>\n",
       "      <td>0.125000</td>\n",
       "      <td>0.0</td>\n",
       "      <td>0.0</td>\n",
       "      <td>0.125000</td>\n",
       "      <td>0.000000</td>\n",
       "      <td>0.250000</td>\n",
       "      <td>0.000000</td>\n",
       "      <td>0.0</td>\n",
       "      <td>0.000000</td>\n",
       "      <td>0.0</td>\n",
       "      <td>0.000000</td>\n",
       "    </tr>\n",
       "    <tr>\n",
       "      <th>4</th>\n",
       "      <td>252912120</td>\n",
       "      <td>0.217391</td>\n",
       "      <td>0.086957</td>\n",
       "      <td>0.043478</td>\n",
       "      <td>0.043478</td>\n",
       "      <td>0.086957</td>\n",
       "      <td>0.000000</td>\n",
       "      <td>0.0</td>\n",
       "      <td>0.0</td>\n",
       "      <td>0.086957</td>\n",
       "      <td>0.000000</td>\n",
       "      <td>0.086957</td>\n",
       "      <td>0.043478</td>\n",
       "      <td>0.0</td>\n",
       "      <td>0.043478</td>\n",
       "      <td>0.0</td>\n",
       "      <td>0.000000</td>\n",
       "    </tr>\n",
       "  </tbody>\n",
       "</table>\n",
       "</div>"
      ],
      "text/plain": [
       "   Author ID      ADJ%      ADP%      ADV%      AUX%    CCONJ%      DET%  \\\n",
       "0  252912120  0.000000  0.083333  0.083333  0.000000  0.083333  0.083333   \n",
       "1  252912120  0.142857  0.214286  0.035714  0.000000  0.000000  0.071429   \n",
       "2  252912120  0.020833  0.166667  0.125000  0.020833  0.062500  0.083333   \n",
       "3  252912120  0.125000  0.000000  0.000000  0.000000  0.000000  0.125000   \n",
       "4  252912120  0.217391  0.086957  0.043478  0.043478  0.086957  0.000000   \n",
       "\n",
       "   INTJ%  PART%     PRON%    PROPN%    PUNCT%    SCONJ%  SYM%     VERB%   X%  \\\n",
       "0    0.0    0.0  0.166667  0.083333  0.083333  0.000000   0.0  0.166667  0.0   \n",
       "1    0.0    0.0  0.071429  0.000000  0.071429  0.000000   0.0  0.107143  0.0   \n",
       "2    0.0    0.0  0.041667  0.000000  0.062500  0.041667   0.0  0.083333  0.0   \n",
       "3    0.0    0.0  0.125000  0.000000  0.250000  0.000000   0.0  0.000000  0.0   \n",
       "4    0.0    0.0  0.086957  0.000000  0.086957  0.043478   0.0  0.043478  0.0   \n",
       "\n",
       "     SPACE%  \n",
       "0  0.083333  \n",
       "1  0.071429  \n",
       "2  0.000000  \n",
       "3  0.000000  \n",
       "4  0.000000  "
      ]
     },
     "execution_count": 7,
     "metadata": {},
     "output_type": "execute_result"
    }
   ],
   "source": [
    "Juandi.head(5)"
   ]
  },
  {
   "cell_type": "code",
   "execution_count": 9,
   "metadata": {},
   "outputs": [],
   "source": [
    "Juandi=Juandi.groupby(['Author ID']).mean()"
   ]
  },
  {
   "cell_type": "code",
   "execution_count": 10,
   "metadata": {},
   "outputs": [
    {
     "data": {
      "text/html": [
       "<div>\n",
       "<style scoped>\n",
       "    .dataframe tbody tr th:only-of-type {\n",
       "        vertical-align: middle;\n",
       "    }\n",
       "\n",
       "    .dataframe tbody tr th {\n",
       "        vertical-align: top;\n",
       "    }\n",
       "\n",
       "    .dataframe thead th {\n",
       "        text-align: right;\n",
       "    }\n",
       "</style>\n",
       "<table border=\"1\" class=\"dataframe\">\n",
       "  <thead>\n",
       "    <tr style=\"text-align: right;\">\n",
       "      <th></th>\n",
       "      <th>ADJ%</th>\n",
       "      <th>ADP%</th>\n",
       "      <th>ADV%</th>\n",
       "      <th>AUX%</th>\n",
       "      <th>CCONJ%</th>\n",
       "      <th>DET%</th>\n",
       "      <th>INTJ%</th>\n",
       "      <th>PART%</th>\n",
       "      <th>PRON%</th>\n",
       "      <th>PROPN%</th>\n",
       "      <th>PUNCT%</th>\n",
       "      <th>SCONJ%</th>\n",
       "      <th>SYM%</th>\n",
       "      <th>VERB%</th>\n",
       "      <th>X%</th>\n",
       "      <th>SPACE%</th>\n",
       "    </tr>\n",
       "    <tr>\n",
       "      <th>Author ID</th>\n",
       "      <th></th>\n",
       "      <th></th>\n",
       "      <th></th>\n",
       "      <th></th>\n",
       "      <th></th>\n",
       "      <th></th>\n",
       "      <th></th>\n",
       "      <th></th>\n",
       "      <th></th>\n",
       "      <th></th>\n",
       "      <th></th>\n",
       "      <th></th>\n",
       "      <th></th>\n",
       "      <th></th>\n",
       "      <th></th>\n",
       "      <th></th>\n",
       "    </tr>\n",
       "  </thead>\n",
       "  <tbody>\n",
       "    <tr>\n",
       "      <th>29283</th>\n",
       "      <td>0.061385</td>\n",
       "      <td>0.043420</td>\n",
       "      <td>0.006141</td>\n",
       "      <td>0.014733</td>\n",
       "      <td>0.004369</td>\n",
       "      <td>0.003369</td>\n",
       "      <td>0.000846</td>\n",
       "      <td>0.000000</td>\n",
       "      <td>0.007432</td>\n",
       "      <td>0.559697</td>\n",
       "      <td>0.070385</td>\n",
       "      <td>0.000196</td>\n",
       "      <td>0.005124</td>\n",
       "      <td>0.080103</td>\n",
       "      <td>0.0</td>\n",
       "      <td>0.012775</td>\n",
       "    </tr>\n",
       "    <tr>\n",
       "      <th>1061601</th>\n",
       "      <td>0.064229</td>\n",
       "      <td>0.119998</td>\n",
       "      <td>0.036970</td>\n",
       "      <td>0.036980</td>\n",
       "      <td>0.020161</td>\n",
       "      <td>0.073536</td>\n",
       "      <td>0.002803</td>\n",
       "      <td>0.000000</td>\n",
       "      <td>0.057422</td>\n",
       "      <td>0.096472</td>\n",
       "      <td>0.066639</td>\n",
       "      <td>0.020476</td>\n",
       "      <td>0.000641</td>\n",
       "      <td>0.111789</td>\n",
       "      <td>0.0</td>\n",
       "      <td>0.096788</td>\n",
       "    </tr>\n",
       "    <tr>\n",
       "      <th>1357911</th>\n",
       "      <td>0.078452</td>\n",
       "      <td>0.136641</td>\n",
       "      <td>0.030815</td>\n",
       "      <td>0.030480</td>\n",
       "      <td>0.023596</td>\n",
       "      <td>0.121006</td>\n",
       "      <td>0.000000</td>\n",
       "      <td>0.000213</td>\n",
       "      <td>0.044776</td>\n",
       "      <td>0.057586</td>\n",
       "      <td>0.078517</td>\n",
       "      <td>0.020719</td>\n",
       "      <td>0.004008</td>\n",
       "      <td>0.121834</td>\n",
       "      <td>0.0</td>\n",
       "      <td>0.022827</td>\n",
       "    </tr>\n",
       "    <tr>\n",
       "      <th>2984721</th>\n",
       "      <td>0.064469</td>\n",
       "      <td>0.109783</td>\n",
       "      <td>0.038830</td>\n",
       "      <td>0.042820</td>\n",
       "      <td>0.020916</td>\n",
       "      <td>0.084362</td>\n",
       "      <td>0.002258</td>\n",
       "      <td>0.000000</td>\n",
       "      <td>0.053797</td>\n",
       "      <td>0.093023</td>\n",
       "      <td>0.086912</td>\n",
       "      <td>0.014481</td>\n",
       "      <td>0.001765</td>\n",
       "      <td>0.124739</td>\n",
       "      <td>0.0</td>\n",
       "      <td>0.025203</td>\n",
       "    </tr>\n",
       "    <tr>\n",
       "      <th>7996082</th>\n",
       "      <td>0.079894</td>\n",
       "      <td>0.163807</td>\n",
       "      <td>0.026565</td>\n",
       "      <td>0.031721</td>\n",
       "      <td>0.027287</td>\n",
       "      <td>0.123901</td>\n",
       "      <td>0.000000</td>\n",
       "      <td>0.000227</td>\n",
       "      <td>0.041822</td>\n",
       "      <td>0.073132</td>\n",
       "      <td>0.045760</td>\n",
       "      <td>0.015247</td>\n",
       "      <td>0.008274</td>\n",
       "      <td>0.101505</td>\n",
       "      <td>0.0</td>\n",
       "      <td>0.006757</td>\n",
       "    </tr>\n",
       "    <tr>\n",
       "      <th>...</th>\n",
       "      <td>...</td>\n",
       "      <td>...</td>\n",
       "      <td>...</td>\n",
       "      <td>...</td>\n",
       "      <td>...</td>\n",
       "      <td>...</td>\n",
       "      <td>...</td>\n",
       "      <td>...</td>\n",
       "      <td>...</td>\n",
       "      <td>...</td>\n",
       "      <td>...</td>\n",
       "      <td>...</td>\n",
       "      <td>...</td>\n",
       "      <td>...</td>\n",
       "      <td>...</td>\n",
       "      <td>...</td>\n",
       "    </tr>\n",
       "    <tr>\n",
       "      <th>1389637694075162628</th>\n",
       "      <td>0.059636</td>\n",
       "      <td>0.079519</td>\n",
       "      <td>0.054431</td>\n",
       "      <td>0.050242</td>\n",
       "      <td>0.034098</td>\n",
       "      <td>0.080395</td>\n",
       "      <td>0.005015</td>\n",
       "      <td>0.000000</td>\n",
       "      <td>0.050555</td>\n",
       "      <td>0.160503</td>\n",
       "      <td>0.058224</td>\n",
       "      <td>0.020760</td>\n",
       "      <td>0.000995</td>\n",
       "      <td>0.132513</td>\n",
       "      <td>0.0</td>\n",
       "      <td>0.032568</td>\n",
       "    </tr>\n",
       "    <tr>\n",
       "      <th>1389737202742071304</th>\n",
       "      <td>0.078847</td>\n",
       "      <td>0.081052</td>\n",
       "      <td>0.066679</td>\n",
       "      <td>0.029251</td>\n",
       "      <td>0.021036</td>\n",
       "      <td>0.086341</td>\n",
       "      <td>0.001873</td>\n",
       "      <td>0.000000</td>\n",
       "      <td>0.048308</td>\n",
       "      <td>0.140772</td>\n",
       "      <td>0.060962</td>\n",
       "      <td>0.023056</td>\n",
       "      <td>0.000653</td>\n",
       "      <td>0.097133</td>\n",
       "      <td>0.0</td>\n",
       "      <td>0.080547</td>\n",
       "    </tr>\n",
       "    <tr>\n",
       "      <th>1389745371690283014</th>\n",
       "      <td>0.058090</td>\n",
       "      <td>0.123911</td>\n",
       "      <td>0.041006</td>\n",
       "      <td>0.042059</td>\n",
       "      <td>0.019592</td>\n",
       "      <td>0.087418</td>\n",
       "      <td>0.002197</td>\n",
       "      <td>0.000000</td>\n",
       "      <td>0.072139</td>\n",
       "      <td>0.074456</td>\n",
       "      <td>0.102610</td>\n",
       "      <td>0.028307</td>\n",
       "      <td>0.001029</td>\n",
       "      <td>0.120686</td>\n",
       "      <td>0.0</td>\n",
       "      <td>0.020953</td>\n",
       "    </tr>\n",
       "    <tr>\n",
       "      <th>1389753654849286145</th>\n",
       "      <td>0.072678</td>\n",
       "      <td>0.097081</td>\n",
       "      <td>0.064880</td>\n",
       "      <td>0.054012</td>\n",
       "      <td>0.036923</td>\n",
       "      <td>0.095389</td>\n",
       "      <td>0.000836</td>\n",
       "      <td>0.000000</td>\n",
       "      <td>0.102703</td>\n",
       "      <td>0.026985</td>\n",
       "      <td>0.069782</td>\n",
       "      <td>0.036812</td>\n",
       "      <td>0.000529</td>\n",
       "      <td>0.146806</td>\n",
       "      <td>0.0</td>\n",
       "      <td>0.008761</td>\n",
       "    </tr>\n",
       "    <tr>\n",
       "      <th>1389769251704147971</th>\n",
       "      <td>0.083022</td>\n",
       "      <td>0.084813</td>\n",
       "      <td>0.027181</td>\n",
       "      <td>0.030211</td>\n",
       "      <td>0.019116</td>\n",
       "      <td>0.069197</td>\n",
       "      <td>0.002488</td>\n",
       "      <td>0.000000</td>\n",
       "      <td>0.050936</td>\n",
       "      <td>0.102339</td>\n",
       "      <td>0.077352</td>\n",
       "      <td>0.024582</td>\n",
       "      <td>0.009557</td>\n",
       "      <td>0.126371</td>\n",
       "      <td>0.0</td>\n",
       "      <td>0.082567</td>\n",
       "    </tr>\n",
       "  </tbody>\n",
       "</table>\n",
       "<p>4899 rows × 16 columns</p>\n",
       "</div>"
      ],
      "text/plain": [
       "                         ADJ%      ADP%      ADV%      AUX%    CCONJ%  \\\n",
       "Author ID                                                               \n",
       "29283                0.061385  0.043420  0.006141  0.014733  0.004369   \n",
       "1061601              0.064229  0.119998  0.036970  0.036980  0.020161   \n",
       "1357911              0.078452  0.136641  0.030815  0.030480  0.023596   \n",
       "2984721              0.064469  0.109783  0.038830  0.042820  0.020916   \n",
       "7996082              0.079894  0.163807  0.026565  0.031721  0.027287   \n",
       "...                       ...       ...       ...       ...       ...   \n",
       "1389637694075162628  0.059636  0.079519  0.054431  0.050242  0.034098   \n",
       "1389737202742071304  0.078847  0.081052  0.066679  0.029251  0.021036   \n",
       "1389745371690283014  0.058090  0.123911  0.041006  0.042059  0.019592   \n",
       "1389753654849286145  0.072678  0.097081  0.064880  0.054012  0.036923   \n",
       "1389769251704147971  0.083022  0.084813  0.027181  0.030211  0.019116   \n",
       "\n",
       "                         DET%     INTJ%     PART%     PRON%    PROPN%  \\\n",
       "Author ID                                                               \n",
       "29283                0.003369  0.000846  0.000000  0.007432  0.559697   \n",
       "1061601              0.073536  0.002803  0.000000  0.057422  0.096472   \n",
       "1357911              0.121006  0.000000  0.000213  0.044776  0.057586   \n",
       "2984721              0.084362  0.002258  0.000000  0.053797  0.093023   \n",
       "7996082              0.123901  0.000000  0.000227  0.041822  0.073132   \n",
       "...                       ...       ...       ...       ...       ...   \n",
       "1389637694075162628  0.080395  0.005015  0.000000  0.050555  0.160503   \n",
       "1389737202742071304  0.086341  0.001873  0.000000  0.048308  0.140772   \n",
       "1389745371690283014  0.087418  0.002197  0.000000  0.072139  0.074456   \n",
       "1389753654849286145  0.095389  0.000836  0.000000  0.102703  0.026985   \n",
       "1389769251704147971  0.069197  0.002488  0.000000  0.050936  0.102339   \n",
       "\n",
       "                       PUNCT%    SCONJ%      SYM%     VERB%   X%    SPACE%  \n",
       "Author ID                                                                   \n",
       "29283                0.070385  0.000196  0.005124  0.080103  0.0  0.012775  \n",
       "1061601              0.066639  0.020476  0.000641  0.111789  0.0  0.096788  \n",
       "1357911              0.078517  0.020719  0.004008  0.121834  0.0  0.022827  \n",
       "2984721              0.086912  0.014481  0.001765  0.124739  0.0  0.025203  \n",
       "7996082              0.045760  0.015247  0.008274  0.101505  0.0  0.006757  \n",
       "...                       ...       ...       ...       ...  ...       ...  \n",
       "1389637694075162628  0.058224  0.020760  0.000995  0.132513  0.0  0.032568  \n",
       "1389737202742071304  0.060962  0.023056  0.000653  0.097133  0.0  0.080547  \n",
       "1389745371690283014  0.102610  0.028307  0.001029  0.120686  0.0  0.020953  \n",
       "1389753654849286145  0.069782  0.036812  0.000529  0.146806  0.0  0.008761  \n",
       "1389769251704147971  0.077352  0.024582  0.009557  0.126371  0.0  0.082567  \n",
       "\n",
       "[4899 rows x 16 columns]"
      ]
     },
     "execution_count": 10,
     "metadata": {},
     "output_type": "execute_result"
    }
   ],
   "source": [
    "Juandi"
   ]
  },
  {
   "cell_type": "code",
   "execution_count": 4,
   "metadata": {},
   "outputs": [],
   "source": [
    "first=pd.read_pickle('Consolidated_V0.pkl')"
   ]
  },
  {
   "cell_type": "markdown",
   "metadata": {},
   "source": [
    "# prueba merge random forest"
   ]
  },
  {
   "cell_type": "code",
   "execution_count": 2,
   "metadata": {},
   "outputs": [],
   "source": [
    "import os\n",
    "import pandas as pd\n",
    "import numpy as np"
   ]
  },
  {
   "cell_type": "code",
   "execution_count": 3,
   "metadata": {},
   "outputs": [],
   "source": [
    "#Importar la base de datos\n",
    "#os.chdir('/Users/santiagoherreragarcia/OneDrive - Universidad de los Andes/Semestre 2022-1/Machine Learning/Trabajo Final/Data')\n",
    "os.chdir('/Users/JuanJose/Library/CloudStorage/OneDrive-UniversidaddelosAndes/Uniandes/8 Semestre/Machine Learning/Proyecto Final/Trabajo Final/Data')\n",
    "marcas=pd.read_pickle('Y Botometer.pkl')\n",
    "main_characteristics=pd.read_pickle('model_characteristics.pkl')\n",
    "#Encontrar cuentas marcadas:\n",
    "main_characteristics=main_characteristics.merge(marcas)\n",
    "marcas=main_characteristics['bot']\n",
    "main_characteristics.drop(columns=['bot'], inplace=True)"
   ]
  },
  {
   "cell_type": "code",
   "execution_count": 4,
   "metadata": {},
   "outputs": [],
   "source": [
    "lisdir=os.listdir()"
   ]
  },
  {
   "cell_type": "code",
   "execution_count": 19,
   "metadata": {},
   "outputs": [
    {
     "name": "stdout",
     "output_type": "stream",
     "text": [
      "user_model_texto.pkl\n",
      "user_model_analyze_descriptions.pkl\n",
      "user_model_juandi.pkl\n"
     ]
    }
   ],
   "source": [
    "dfs=[]\n",
    "for i in os.listdir():\n",
    "    if 'user_model' in i:\n",
    "        print(i)\n",
    "        df=pd.read_pickle(i)\n",
    "        if i=='user_model_juandi.pkl':\n",
    "            df=df[['Author ID','ADJ%','ADP%', 'ADV%', 'AUX%', 'CCONJ%', 'DET%', 'INTJ%', 'PART%', 'PRON%','PROPN%', 'PUNCT%', 'SCONJ%', 'SYM%', 'VERB%', 'X%', 'SPACE%']]\n",
    "            df=df.groupby(['Author ID']).mean()\n",
    "        dfs.append(df)\n",
    "for i in range(0, len(dfs)):\n",
    "    dfs[i]['Author ID']=dfs[i]['Author ID'].astype(int).astype(str)\n",
    "    main_characteristics=main_characteristics.merge(dfs[i], on='Author ID')\n",
    "main_characteristics.drop(columns=['Author ID'], inplace=True)\n"
   ]
  },
  {
   "cell_type": "code",
   "execution_count": 24,
   "metadata": {},
   "outputs": [
    {
     "name": "stdout",
     "output_type": "stream",
     "text": [
      "user_model_texto.pkl\n",
      "user_model_analyze_descriptions.pkl\n",
      "user_model_juandi.pkl\n"
     ]
    }
   ],
   "source": [
    "dfs=[]\n",
    "for i in os.listdir():\n",
    "    if 'user_model' in i:\n",
    "        print(i)\n",
    "        if i!='user_model_juandi.pkl':\n",
    "            df=pd.read_pickle(i)\n",
    "        dfs.append(df)\n"
   ]
  },
  {
   "cell_type": "code",
   "execution_count": null,
   "metadata": {},
   "outputs": [],
   "source": [
    "for i in range(0, len(dfs)):\n",
    "    dfs[i]['Author ID']=dfs[i]['Author ID'].astype(int).astype(str)\n",
    "    main_characteristics=main_characteristics.merge(dfs[i], on='Author ID')\n",
    "main_characteristics.drop(columns=['Author ID'], inplace=True)\n"
   ]
  },
  {
   "cell_type": "code",
   "execution_count": null,
   "metadata": {},
   "outputs": [],
   "source": []
  },
  {
   "cell_type": "code",
   "execution_count": 25,
   "metadata": {},
   "outputs": [
    {
     "data": {
      "text/plain": [
       "3"
      ]
     },
     "execution_count": 25,
     "metadata": {},
     "output_type": "execute_result"
    }
   ],
   "source": [
    "len(dfs)"
   ]
  },
  {
   "cell_type": "code",
   "execution_count": 29,
   "metadata": {},
   "outputs": [
    {
     "data": {
      "text/plain": [
       "Author ID      int64\n",
       "ADJ%         float64\n",
       "ADP%         float64\n",
       "ADV%         float64\n",
       "AUX%         float64\n",
       "CCONJ%       float64\n",
       "DET%         float64\n",
       "INTJ%        float64\n",
       "PART%        float64\n",
       "PRON%        float64\n",
       "PROPN%       float64\n",
       "PUNCT%       float64\n",
       "SCONJ%       float64\n",
       "SYM%         float64\n",
       "VERB%        float64\n",
       "X%           float64\n",
       "SPACE%       float64\n",
       "dtype: object"
      ]
     },
     "execution_count": 29,
     "metadata": {},
     "output_type": "execute_result"
    }
   ],
   "source": [
    "df=pd.read_pickle('user_model_juandi.pkl')\n",
    "df=df[['Author ID','ADJ%','ADP%', 'ADV%', 'AUX%', 'CCONJ%', 'DET%', 'INTJ%', 'PART%', 'PRON%','PROPN%', 'PUNCT%', 'SCONJ%', 'SYM%', 'VERB%', 'X%', 'SPACE%']]\n",
    "df=df.groupby(['Author ID'],as_index=False).mean()\n",
    "df.dtypes"
   ]
  },
  {
   "cell_type": "code",
   "execution_count": 30,
   "metadata": {},
   "outputs": [
    {
     "data": {
      "text/plain": [
       "Index(['Author ID', 'ADJ%', 'ADP%', 'ADV%', 'AUX%', 'CCONJ%', 'DET%', 'INTJ%',\n",
       "       'PART%', 'PRON%', 'PROPN%', 'PUNCT%', 'SCONJ%', 'SYM%', 'VERB%', 'X%',\n",
       "       'SPACE%'],\n",
       "      dtype='object')"
      ]
     },
     "execution_count": 30,
     "metadata": {},
     "output_type": "execute_result"
    }
   ],
   "source": [
    "df.columns"
   ]
  },
  {
   "cell_type": "code",
   "execution_count": 31,
   "metadata": {},
   "outputs": [],
   "source": [
    "dfs=[]\n",
    "df=pd.read_pickle('user_model_texto.pkl')\n",
    "dfs.append(df)\n",
    "df=pd.read_pickle('user_model_analyze_descriptions.pkl')\n",
    "dfs.append(df)\n",
    "df=pd.read_pickle('user_model_juandi.pkl')\n",
    "df=df[['Author ID','ADJ%','ADP%', 'ADV%', 'AUX%', 'CCONJ%', 'DET%', 'INTJ%', 'PART%', 'PRON%','PROPN%', 'PUNCT%', 'SCONJ%', 'SYM%', 'VERB%', 'X%', 'SPACE%']]\n",
    "df=df.groupby(['Author ID'], as_index=False).mean()\n",
    "dfs.append(df)\n"
   ]
  },
  {
   "cell_type": "code",
   "execution_count": 20,
   "metadata": {},
   "outputs": [
    {
     "data": {
      "text/plain": [
       "3"
      ]
     },
     "execution_count": 20,
     "metadata": {},
     "output_type": "execute_result"
    }
   ],
   "source": [
    "len(dfs)"
   ]
  },
  {
   "cell_type": "code",
   "execution_count": 21,
   "metadata": {},
   "outputs": [
    {
     "ename": "KeyError",
     "evalue": "'Author ID'",
     "output_type": "error",
     "traceback": [
      "\u001b[0;31m---------------------------------------------------------------------------\u001b[0m",
      "\u001b[0;31mKeyError\u001b[0m                                  Traceback (most recent call last)",
      "\u001b[0;32m/opt/anaconda3/lib/python3.8/site-packages/pandas/core/indexes/base.py\u001b[0m in \u001b[0;36mget_loc\u001b[0;34m(self, key, method, tolerance)\u001b[0m\n\u001b[1;32m   3360\u001b[0m             \u001b[0;32mtry\u001b[0m\u001b[0;34m:\u001b[0m\u001b[0;34m\u001b[0m\u001b[0;34m\u001b[0m\u001b[0m\n\u001b[0;32m-> 3361\u001b[0;31m                 \u001b[0;32mreturn\u001b[0m \u001b[0mself\u001b[0m\u001b[0;34m.\u001b[0m\u001b[0m_engine\u001b[0m\u001b[0;34m.\u001b[0m\u001b[0mget_loc\u001b[0m\u001b[0;34m(\u001b[0m\u001b[0mcasted_key\u001b[0m\u001b[0;34m)\u001b[0m\u001b[0;34m\u001b[0m\u001b[0;34m\u001b[0m\u001b[0m\n\u001b[0m\u001b[1;32m   3362\u001b[0m             \u001b[0;32mexcept\u001b[0m \u001b[0mKeyError\u001b[0m \u001b[0;32mas\u001b[0m \u001b[0merr\u001b[0m\u001b[0;34m:\u001b[0m\u001b[0;34m\u001b[0m\u001b[0;34m\u001b[0m\u001b[0m\n",
      "\u001b[0;32m/opt/anaconda3/lib/python3.8/site-packages/pandas/_libs/index.pyx\u001b[0m in \u001b[0;36mpandas._libs.index.IndexEngine.get_loc\u001b[0;34m()\u001b[0m\n",
      "\u001b[0;32m/opt/anaconda3/lib/python3.8/site-packages/pandas/_libs/index.pyx\u001b[0m in \u001b[0;36mpandas._libs.index.IndexEngine.get_loc\u001b[0;34m()\u001b[0m\n",
      "\u001b[0;32mpandas/_libs/hashtable_class_helper.pxi\u001b[0m in \u001b[0;36mpandas._libs.hashtable.PyObjectHashTable.get_item\u001b[0;34m()\u001b[0m\n",
      "\u001b[0;32mpandas/_libs/hashtable_class_helper.pxi\u001b[0m in \u001b[0;36mpandas._libs.hashtable.PyObjectHashTable.get_item\u001b[0;34m()\u001b[0m\n",
      "\u001b[0;31mKeyError\u001b[0m: 'Author ID'",
      "\nThe above exception was the direct cause of the following exception:\n",
      "\u001b[0;31mKeyError\u001b[0m                                  Traceback (most recent call last)",
      "\u001b[0;32m/var/folders/mh/5rktlv8j12jfqw0328x92d140000gp/T/ipykernel_98216/2320151424.py\u001b[0m in \u001b[0;36m<module>\u001b[0;34m\u001b[0m\n\u001b[0;32m----> 1\u001b[0;31m \u001b[0mdfs\u001b[0m\u001b[0;34m[\u001b[0m\u001b[0;36m2\u001b[0m\u001b[0;34m]\u001b[0m\u001b[0;34m[\u001b[0m\u001b[0;34m'Author ID'\u001b[0m\u001b[0;34m]\u001b[0m\u001b[0;34m=\u001b[0m\u001b[0mdfs\u001b[0m\u001b[0;34m[\u001b[0m\u001b[0;36m2\u001b[0m\u001b[0;34m]\u001b[0m\u001b[0;34m[\u001b[0m\u001b[0;34m'Author ID'\u001b[0m\u001b[0;34m]\u001b[0m\u001b[0;34m.\u001b[0m\u001b[0mastype\u001b[0m\u001b[0;34m(\u001b[0m\u001b[0mint\u001b[0m\u001b[0;34m)\u001b[0m\u001b[0;34m.\u001b[0m\u001b[0mastype\u001b[0m\u001b[0;34m(\u001b[0m\u001b[0mstr\u001b[0m\u001b[0;34m)\u001b[0m\u001b[0;34m\u001b[0m\u001b[0;34m\u001b[0m\u001b[0m\n\u001b[0m",
      "\u001b[0;32m/opt/anaconda3/lib/python3.8/site-packages/pandas/core/frame.py\u001b[0m in \u001b[0;36m__getitem__\u001b[0;34m(self, key)\u001b[0m\n\u001b[1;32m   3456\u001b[0m             \u001b[0;32mif\u001b[0m \u001b[0mself\u001b[0m\u001b[0;34m.\u001b[0m\u001b[0mcolumns\u001b[0m\u001b[0;34m.\u001b[0m\u001b[0mnlevels\u001b[0m \u001b[0;34m>\u001b[0m \u001b[0;36m1\u001b[0m\u001b[0;34m:\u001b[0m\u001b[0;34m\u001b[0m\u001b[0;34m\u001b[0m\u001b[0m\n\u001b[1;32m   3457\u001b[0m                 \u001b[0;32mreturn\u001b[0m \u001b[0mself\u001b[0m\u001b[0;34m.\u001b[0m\u001b[0m_getitem_multilevel\u001b[0m\u001b[0;34m(\u001b[0m\u001b[0mkey\u001b[0m\u001b[0;34m)\u001b[0m\u001b[0;34m\u001b[0m\u001b[0;34m\u001b[0m\u001b[0m\n\u001b[0;32m-> 3458\u001b[0;31m             \u001b[0mindexer\u001b[0m \u001b[0;34m=\u001b[0m \u001b[0mself\u001b[0m\u001b[0;34m.\u001b[0m\u001b[0mcolumns\u001b[0m\u001b[0;34m.\u001b[0m\u001b[0mget_loc\u001b[0m\u001b[0;34m(\u001b[0m\u001b[0mkey\u001b[0m\u001b[0;34m)\u001b[0m\u001b[0;34m\u001b[0m\u001b[0;34m\u001b[0m\u001b[0m\n\u001b[0m\u001b[1;32m   3459\u001b[0m             \u001b[0;32mif\u001b[0m \u001b[0mis_integer\u001b[0m\u001b[0;34m(\u001b[0m\u001b[0mindexer\u001b[0m\u001b[0;34m)\u001b[0m\u001b[0;34m:\u001b[0m\u001b[0;34m\u001b[0m\u001b[0;34m\u001b[0m\u001b[0m\n\u001b[1;32m   3460\u001b[0m                 \u001b[0mindexer\u001b[0m \u001b[0;34m=\u001b[0m \u001b[0;34m[\u001b[0m\u001b[0mindexer\u001b[0m\u001b[0;34m]\u001b[0m\u001b[0;34m\u001b[0m\u001b[0;34m\u001b[0m\u001b[0m\n",
      "\u001b[0;32m/opt/anaconda3/lib/python3.8/site-packages/pandas/core/indexes/base.py\u001b[0m in \u001b[0;36mget_loc\u001b[0;34m(self, key, method, tolerance)\u001b[0m\n\u001b[1;32m   3361\u001b[0m                 \u001b[0;32mreturn\u001b[0m \u001b[0mself\u001b[0m\u001b[0;34m.\u001b[0m\u001b[0m_engine\u001b[0m\u001b[0;34m.\u001b[0m\u001b[0mget_loc\u001b[0m\u001b[0;34m(\u001b[0m\u001b[0mcasted_key\u001b[0m\u001b[0;34m)\u001b[0m\u001b[0;34m\u001b[0m\u001b[0;34m\u001b[0m\u001b[0m\n\u001b[1;32m   3362\u001b[0m             \u001b[0;32mexcept\u001b[0m \u001b[0mKeyError\u001b[0m \u001b[0;32mas\u001b[0m \u001b[0merr\u001b[0m\u001b[0;34m:\u001b[0m\u001b[0;34m\u001b[0m\u001b[0;34m\u001b[0m\u001b[0m\n\u001b[0;32m-> 3363\u001b[0;31m                 \u001b[0;32mraise\u001b[0m \u001b[0mKeyError\u001b[0m\u001b[0;34m(\u001b[0m\u001b[0mkey\u001b[0m\u001b[0;34m)\u001b[0m \u001b[0;32mfrom\u001b[0m \u001b[0merr\u001b[0m\u001b[0;34m\u001b[0m\u001b[0;34m\u001b[0m\u001b[0m\n\u001b[0m\u001b[1;32m   3364\u001b[0m \u001b[0;34m\u001b[0m\u001b[0m\n\u001b[1;32m   3365\u001b[0m         \u001b[0;32mif\u001b[0m \u001b[0mis_scalar\u001b[0m\u001b[0;34m(\u001b[0m\u001b[0mkey\u001b[0m\u001b[0;34m)\u001b[0m \u001b[0;32mand\u001b[0m \u001b[0misna\u001b[0m\u001b[0;34m(\u001b[0m\u001b[0mkey\u001b[0m\u001b[0;34m)\u001b[0m \u001b[0;32mand\u001b[0m \u001b[0;32mnot\u001b[0m \u001b[0mself\u001b[0m\u001b[0;34m.\u001b[0m\u001b[0mhasnans\u001b[0m\u001b[0;34m:\u001b[0m\u001b[0;34m\u001b[0m\u001b[0;34m\u001b[0m\u001b[0m\n",
      "\u001b[0;31mKeyError\u001b[0m: 'Author ID'"
     ]
    }
   ],
   "source": [
    "dfs[2]['Author ID']=dfs[2]['Author ID'].astype(int).astype(str)"
   ]
  },
  {
   "cell_type": "code",
   "execution_count": 18,
   "metadata": {},
   "outputs": [
    {
     "data": {
      "text/plain": [
       "0         252912120\n",
       "1         252912120\n",
       "2         252912120\n",
       "3         252912120\n",
       "4         252912120\n",
       "            ...    \n",
       "486295    335665232\n",
       "486296    335665232\n",
       "486297    335665232\n",
       "486298    335665232\n",
       "486299    335665232\n",
       "Name: Author ID, Length: 486300, dtype: object"
      ]
     },
     "execution_count": 18,
     "metadata": {},
     "output_type": "execute_result"
    }
   ],
   "source": [
    "dfs[2]['Author ID']"
   ]
  },
  {
   "cell_type": "code",
   "execution_count": null,
   "metadata": {},
   "outputs": [],
   "source": []
  }
 ],
 "metadata": {
  "interpreter": {
   "hash": "40d3a090f54c6569ab1632332b64b2c03c39dcf918b08424e98f38b5ae0af88f"
  },
  "kernelspec": {
   "display_name": "Python 3.8.8",
   "language": "python",
   "name": "python3"
  },
  "language_info": {
   "codemirror_mode": {
    "name": "ipython",
    "version": 3
   },
   "file_extension": ".py",
   "mimetype": "text/x-python",
   "name": "python",
   "nbconvert_exporter": "python",
   "pygments_lexer": "ipython3",
   "version": "3.8.8"
  },
  "orig_nbformat": 4
 },
 "nbformat": 4,
 "nbformat_minor": 2
}
