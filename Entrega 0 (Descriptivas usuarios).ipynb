{
 "cells": [
  {
   "cell_type": "code",
   "execution_count": 25,
   "id": "52ff540d",
   "metadata": {},
   "outputs": [],
   "source": [
    "import os \n",
    "import pandas as pd\n",
    "from matplotlib import pyplot as plt\n",
    "import numpy as np"
   ]
  },
  {
   "cell_type": "code",
   "execution_count": 26,
   "id": "3e336115",
   "metadata": {},
   "outputs": [],
   "source": [
    "os.chdir('/Users/santiagoherreragarcia/OneDrive - Universidad de los Andes/Semestre 2022-1/Machine Learning/Trabajo Final/Data')\n",
    "usuarios=pd.read_pickle('Usuarios por location (ML).pkl')\n",
    "#usuarios_location=pd.read_pickle(\"/Users/santiagoherreragarcia/Universidad de los Andes/Tomas Rodriguez Barraquer - TorniquetesLight/Twitter/Data/Usuarios/Usuarios por location (390000).pkl\", 'gzip')"
   ]
  },
  {
   "cell_type": "code",
   "execution_count": 27,
   "id": "5be190bc",
   "metadata": {},
   "outputs": [],
   "source": [
    "np.random.seed(123)\n",
    "indexes=np.random.choice(range(0,len(usuarios)), 5000, replace=False)"
   ]
  },
  {
   "cell_type": "code",
   "execution_count": 28,
   "id": "094a6b23",
   "metadata": {},
   "outputs": [],
   "source": [
    "usuarios_5000=usuarios.iloc[indexes]"
   ]
  },
  {
   "cell_type": "code",
   "execution_count": 29,
   "id": "943ae6fe",
   "metadata": {},
   "outputs": [],
   "source": [
    "tab=usuarios_5000.describe().loc[:,['Author ID', 'Semanas', 'N Keywords','Apariciones', 'Fraccion Tweets',\n",
    "                                'Author Followers', 'Author Following']]"
   ]
  },
  {
   "cell_type": "code",
   "execution_count": 30,
   "id": "46e70ce2",
   "metadata": {},
   "outputs": [],
   "source": [
    "os.chdir('/Users/santiagoherreragarcia/OneDrive - Universidad de los Andes/Semestre 2022-1/Machine Learning/Trabajo Final')"
   ]
  },
  {
   "cell_type": "code",
   "execution_count": 31,
   "id": "ace39877",
   "metadata": {},
   "outputs": [],
   "source": [
    "tab.to_excel('desc_usuarios.xlsx',index=True)"
   ]
  },
  {
   "cell_type": "code",
   "execution_count": 32,
   "id": "0013efdc",
   "metadata": {},
   "outputs": [
    {
     "data": {
      "text/plain": [
       "Index(['Author ID', 'Retweets 1', 'Tweets 1', 'N Keywords 1', 'Semana 1',\n",
       "       'Retweets 5', 'Tweets 5', 'N Keywords 5', 'Semana 5', 'Retweets 9',\n",
       "       'Tweets 9', 'N Keywords 9', 'Semana 9', 'N Keywords', 'N Tweets',\n",
       "       'N Retweets', 'Semanas', 'Apariciones', 'Fraccion Tweets',\n",
       "       'Author Name', 'Author Location', 'Author Description',\n",
       "       'Author Followers', 'Author Following', 'Author Profile Image'],\n",
       "      dtype='object')"
      ]
     },
     "execution_count": 32,
     "metadata": {},
     "output_type": "execute_result"
    }
   ],
   "source": [
    "usuarios_5000.columns"
   ]
  },
  {
   "cell_type": "code",
   "execution_count": 33,
   "id": "f4e9660d",
   "metadata": {},
   "outputs": [
    {
     "data": {
      "image/png": "[encoded data removed]",
      "text/plain": [
       "<Figure size 1080x720 with 1 Axes>"
      ]
     },
     "metadata": {
      "needs_background": "light"
     },
     "output_type": "display_data"
    }
   ],
   "source": [
    "plt.figure(figsize=(15,10))\n",
    "frac_dist=plt.hist(usuarios_5000['Fraccion Tweets'], bins=100, color='#1DA1F2')\n",
    "plt.xlabel('Fracción de \\nTweets Originales')\n",
    "plt.ylabel('N Usuarios')\n",
    "plt.savefig('Distribucion Frac Tweets.png')"
   ]
  },
  {
   "cell_type": "code",
   "execution_count": 34,
   "id": "074102e9",
   "metadata": {},
   "outputs": [
    {
     "data": {
      "image/png": "[encoded data removed]",
      "text/plain": [
       "<Figure size 1080x720 with 1 Axes>"
      ]
     },
     "metadata": {
      "needs_background": "light"
     },
     "output_type": "display_data"
    }
   ],
   "source": [
    "plt.figure(figsize=(15,10))\n",
    "frac_dist=plt.hist(usuarios_5000['Author Followers'], bins=10000, color='#1DA1F2')\n",
    "plt.xlabel('Followers de los Usuarios')\n",
    "plt.ylabel('N Usuarios')\n",
    "plt.xlim(-1,100000)\n",
    "plt.savefig('Distribucion Followers.png')"
   ]
  },
  {
   "cell_type": "code",
   "execution_count": 35,
   "id": "0f4284c2",
   "metadata": {},
   "outputs": [
    {
     "data": {
      "text/html": [
       "<div>\n",
       "<style scoped>\n",
       "    .dataframe tbody tr th:only-of-type {\n",
       "        vertical-align: middle;\n",
       "    }\n",
       "\n",
       "    .dataframe tbody tr th {\n",
       "        vertical-align: top;\n",
       "    }\n",
       "\n",
       "    .dataframe thead th {\n",
       "        text-align: right;\n",
       "    }\n",
       "</style>\n",
       "<table border=\"1\" class=\"dataframe\">\n",
       "  <thead>\n",
       "    <tr style=\"text-align: right;\">\n",
       "      <th></th>\n",
       "      <th>Author ID</th>\n",
       "      <th>Retweets 1</th>\n",
       "      <th>Tweets 1</th>\n",
       "      <th>N Keywords 1</th>\n",
       "      <th>Semana 1</th>\n",
       "      <th>Retweets 5</th>\n",
       "      <th>Tweets 5</th>\n",
       "      <th>N Keywords 5</th>\n",
       "      <th>Semana 5</th>\n",
       "      <th>Retweets 9</th>\n",
       "      <th>...</th>\n",
       "      <th>N Retweets</th>\n",
       "      <th>Semanas</th>\n",
       "      <th>Apariciones</th>\n",
       "      <th>Fraccion Tweets</th>\n",
       "      <th>Author Name</th>\n",
       "      <th>Author Location</th>\n",
       "      <th>Author Description</th>\n",
       "      <th>Author Followers</th>\n",
       "      <th>Author Following</th>\n",
       "      <th>Author Profile Image</th>\n",
       "    </tr>\n",
       "  </thead>\n",
       "  <tbody>\n",
       "    <tr>\n",
       "      <th>9211</th>\n",
       "      <td>57039353</td>\n",
       "      <td>301.0</td>\n",
       "      <td>39.0</td>\n",
       "      <td>30.0</td>\n",
       "      <td>1.0</td>\n",
       "      <td>184.0</td>\n",
       "      <td>12.0</td>\n",
       "      <td>33.0</td>\n",
       "      <td>1.0</td>\n",
       "      <td>107.0</td>\n",
       "      <td>...</td>\n",
       "      <td>592.0</td>\n",
       "      <td>3.0</td>\n",
       "      <td>667.0</td>\n",
       "      <td>0.112444</td>\n",
       "      <td>Carritosdeluz</td>\n",
       "      <td>colombia</td>\n",
       "      <td>La mayoría de mis tweets son retweets 😎. 🇨🇴❤️ ...</td>\n",
       "      <td>1507.0</td>\n",
       "      <td>1758.0</td>\n",
       "      <td>https://pbs.twimg.com/profile_images/140717869...</td>\n",
       "    </tr>\n",
       "    <tr>\n",
       "      <th>48370</th>\n",
       "      <td>1013373056302149632</td>\n",
       "      <td>3.0</td>\n",
       "      <td>0.0</td>\n",
       "      <td>1.0</td>\n",
       "      <td>1.0</td>\n",
       "      <td>0.0</td>\n",
       "      <td>1.0</td>\n",
       "      <td>1.0</td>\n",
       "      <td>1.0</td>\n",
       "      <td>0.0</td>\n",
       "      <td>...</td>\n",
       "      <td>3.0</td>\n",
       "      <td>3.0</td>\n",
       "      <td>6.0</td>\n",
       "      <td>0.500000</td>\n",
       "      <td>TeresaCastrill3</td>\n",
       "      <td>bello colombia</td>\n",
       "      <td>NaN</td>\n",
       "      <td>23.0</td>\n",
       "      <td>325.0</td>\n",
       "      <td>https://pbs.twimg.com/profile_images/101808197...</td>\n",
       "    </tr>\n",
       "    <tr>\n",
       "      <th>387</th>\n",
       "      <td>2978268105</td>\n",
       "      <td>731.0</td>\n",
       "      <td>78.0</td>\n",
       "      <td>57.0</td>\n",
       "      <td>1.0</td>\n",
       "      <td>9.0</td>\n",
       "      <td>2.0</td>\n",
       "      <td>8.0</td>\n",
       "      <td>1.0</td>\n",
       "      <td>14.0</td>\n",
       "      <td>...</td>\n",
       "      <td>754.0</td>\n",
       "      <td>3.0</td>\n",
       "      <td>853.0</td>\n",
       "      <td>0.116061</td>\n",
       "      <td>SraPatria</td>\n",
       "      <td>colombia</td>\n",
       "      <td>Populus me sibilat at mihi plaudo ipse domi.</td>\n",
       "      <td>75177.0</td>\n",
       "      <td>2473.0</td>\n",
       "      <td>https://pbs.twimg.com/profile_images/106281766...</td>\n",
       "    </tr>\n",
       "    <tr>\n",
       "      <th>15421</th>\n",
       "      <td>731158175664222208</td>\n",
       "      <td>26.0</td>\n",
       "      <td>1.0</td>\n",
       "      <td>18.0</td>\n",
       "      <td>1.0</td>\n",
       "      <td>97.0</td>\n",
       "      <td>2.0</td>\n",
       "      <td>31.0</td>\n",
       "      <td>1.0</td>\n",
       "      <td>11.0</td>\n",
       "      <td>...</td>\n",
       "      <td>134.0</td>\n",
       "      <td>3.0</td>\n",
       "      <td>137.0</td>\n",
       "      <td>0.021898</td>\n",
       "      <td>alexanderlg33</td>\n",
       "      <td>armenia colombia</td>\n",
       "      <td>Licenciado en Español y Literatura de la unive...</td>\n",
       "      <td>726.0</td>\n",
       "      <td>756.0</td>\n",
       "      <td>https://pbs.twimg.com/profile_images/146239744...</td>\n",
       "    </tr>\n",
       "    <tr>\n",
       "      <th>25811</th>\n",
       "      <td>702045128</td>\n",
       "      <td>4.0</td>\n",
       "      <td>4.0</td>\n",
       "      <td>6.0</td>\n",
       "      <td>1.0</td>\n",
       "      <td>9.0</td>\n",
       "      <td>4.0</td>\n",
       "      <td>9.0</td>\n",
       "      <td>1.0</td>\n",
       "      <td>49.0</td>\n",
       "      <td>...</td>\n",
       "      <td>62.0</td>\n",
       "      <td>3.0</td>\n",
       "      <td>86.0</td>\n",
       "      <td>0.279070</td>\n",
       "      <td>pattyboj</td>\n",
       "      <td>bogota colombia</td>\n",
       "      <td>No hay nada mejor que gozarse cada dia como ve...</td>\n",
       "      <td>301.0</td>\n",
       "      <td>686.0</td>\n",
       "      <td>https://pbs.twimg.com/profile_images/140911536...</td>\n",
       "    </tr>\n",
       "  </tbody>\n",
       "</table>\n",
       "<p>5 rows × 25 columns</p>\n",
       "</div>"
      ],
      "text/plain": [
       "                 Author ID  Retweets 1  Tweets 1  N Keywords 1  Semana 1  \\\n",
       "9211              57039353       301.0      39.0          30.0       1.0   \n",
       "48370  1013373056302149632         3.0       0.0           1.0       1.0   \n",
       "387             2978268105       731.0      78.0          57.0       1.0   \n",
       "15421   731158175664222208        26.0       1.0          18.0       1.0   \n",
       "25811            702045128         4.0       4.0           6.0       1.0   \n",
       "\n",
       "       Retweets 5  Tweets 5  N Keywords 5  Semana 5  Retweets 9  ...  \\\n",
       "9211        184.0      12.0          33.0       1.0       107.0  ...   \n",
       "48370         0.0       1.0           1.0       1.0         0.0  ...   \n",
       "387           9.0       2.0           8.0       1.0        14.0  ...   \n",
       "15421        97.0       2.0          31.0       1.0        11.0  ...   \n",
       "25811         9.0       4.0           9.0       1.0        49.0  ...   \n",
       "\n",
       "       N Retweets  Semanas  Apariciones  Fraccion Tweets      Author Name  \\\n",
       "9211        592.0      3.0        667.0         0.112444    Carritosdeluz   \n",
       "48370         3.0      3.0          6.0         0.500000  TeresaCastrill3   \n",
       "387         754.0      3.0        853.0         0.116061        SraPatria   \n",
       "15421       134.0      3.0        137.0         0.021898    alexanderlg33   \n",
       "25811        62.0      3.0         86.0         0.279070         pattyboj   \n",
       "\n",
       "        Author Location                                 Author Description  \\\n",
       "9211           colombia  La mayoría de mis tweets son retweets 😎. 🇨🇴❤️ ...   \n",
       "48370    bello colombia                                                NaN   \n",
       "387            colombia       Populus me sibilat at mihi plaudo ipse domi.   \n",
       "15421  armenia colombia  Licenciado en Español y Literatura de la unive...   \n",
       "25811   bogota colombia  No hay nada mejor que gozarse cada dia como ve...   \n",
       "\n",
       "       Author Followers  Author Following  \\\n",
       "9211             1507.0            1758.0   \n",
       "48370              23.0             325.0   \n",
       "387             75177.0            2473.0   \n",
       "15421             726.0             756.0   \n",
       "25811             301.0             686.0   \n",
       "\n",
       "                                    Author Profile Image  \n",
       "9211   https://pbs.twimg.com/profile_images/140717869...  \n",
       "48370  https://pbs.twimg.com/profile_images/101808197...  \n",
       "387    https://pbs.twimg.com/profile_images/106281766...  \n",
       "15421  https://pbs.twimg.com/profile_images/146239744...  \n",
       "25811  https://pbs.twimg.com/profile_images/140911536...  \n",
       "\n",
       "[5 rows x 25 columns]"
      ]
     },
     "execution_count": 35,
     "metadata": {},
     "output_type": "execute_result"
    }
   ],
   "source": [
    "usuarios_5000.head()"
   ]
  },
  {
   "cell_type": "code",
   "execution_count": 36,
   "id": "aefbb47e",
   "metadata": {},
   "outputs": [],
   "source": [
    "usuarios_5000.to_pickle('Usuarios Finales (5000).pkl')"
   ]
  }
 ],
 "metadata": {
  "kernelspec": {
   "display_name": "Python 3 (ipykernel)",
   "language": "python",
   "name": "python3"
  },
  "language_info": {
   "codemirror_mode": {
    "name": "ipython",
    "version": 3
   },
   "file_extension": ".py",
   "mimetype": "text/x-python",
   "name": "python",
   "nbconvert_exporter": "python",
   "pygments_lexer": "ipython3",
   "version": "3.8.8"
  }
 },
 "nbformat": 4,
 "nbformat_minor": 5
}
