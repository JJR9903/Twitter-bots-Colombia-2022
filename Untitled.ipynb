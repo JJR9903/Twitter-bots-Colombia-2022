{
 "cells": [
  {
   "cell_type": "code",
   "execution_count": 2,
   "id": "cbbcb1fa-8f90-48b0-af0f-028396d94321",
   "metadata": {},
   "outputs": [],
   "source": [
    "import pandas as pd\n",
    "import numpy as np\n",
    "import os"
   ]
  },
  {
   "cell_type": "code",
   "execution_count": 3,
   "id": "8837d210-0dc9-4616-bf0c-0b66b16ace08",
   "metadata": {},
   "outputs": [],
   "source": [
    "os.chdir('/Users/valentinacastilla/Library/CloudStorage/OneDrive-UniversidaddeLosAndes/Trabajo Final')"
   ]
  },
  {
   "cell_type": "code",
   "execution_count": null,
   "id": "c3ce5dc0-fdec-418e-b94e-85f84f1ca6ce",
   "metadata": {},
   "outputs": [],
   "source": [
    "prueba = pd.read_pickle('Data/BD_JUANDI.pkl')"
   ]
  },
  {
   "cell_type": "code",
   "execution_count": null,
   "id": "80dee696-c95a-4c57-aab2-e1b39b5db7fa",
   "metadata": {},
   "outputs": [],
   "source": []
  }
 ],
 "metadata": {
  "kernelspec": {
   "display_name": "Python 3 (ipykernel)",
   "language": "python",
   "name": "python3"
  },
  "language_info": {
   "codemirror_mode": {
    "name": "ipython",
    "version": 3
   },
   "file_extension": ".py",
   "mimetype": "text/x-python",
   "name": "python",
   "nbconvert_exporter": "python",
   "pygments_lexer": "ipython3",
   "version": "3.9.7"
  }
 },
 "nbformat": 4,
 "nbformat_minor": 5
}
